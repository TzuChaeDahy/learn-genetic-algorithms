{
 "cells": [
  {
   "cell_type": "markdown",
   "metadata": {},
   "source": [
    "# One Max Problem\n",
    "\n",
    "- Algoritmo criado por mim (@TzuChaeDahy) para resolver o problema \"One Max\" utilizando algoritmos genéticos.\n",
    "- O problema, em síntese, pede que o usuário encontre a melhor opção para obter uma lista com o maior número de 1 possíveis."
   ]
  },
  {
   "cell_type": "markdown",
   "metadata": {},
   "source": [
    "## Passo 1: Importar bibliotecas e inicializar constantes"
   ]
  },
  {
   "cell_type": "code",
   "execution_count": 433,
   "metadata": {},
   "outputs": [],
   "source": [
    "import random\n",
    "\n",
    "POPULATION_SIZE = 50\n",
    "GENOME_LENGTH = 10\n",
    "GENERATIONS = 30\n",
    "\n",
    "MUTATION_RATE = 0.01\n",
    "CROSSOVER_RATE = 0.70"
   ]
  },
  {
   "cell_type": "markdown",
   "metadata": {},
   "source": [
    "## Passo 2: Gerar genoma aleatório"
   ]
  },
  {
   "cell_type": "code",
   "execution_count": 434,
   "metadata": {},
   "outputs": [],
   "source": [
    "def generate_random_genome(genome_length):\n",
    "    return [random.randint(0, 1) for _ in range(genome_length)]\n"
   ]
  },
  {
   "cell_type": "markdown",
   "metadata": {},
   "source": [
    "## Passo 3: Gerar população inicial"
   ]
  },
  {
   "cell_type": "code",
   "execution_count": 435,
   "metadata": {},
   "outputs": [],
   "source": [
    "def generate_initial_population(population_size, genome_length):\n",
    "    return [generate_random_genome(genome_length) for _ in range(population_size)]"
   ]
  },
  {
   "cell_type": "markdown",
   "metadata": {},
   "source": [
    "## Passo 4: Quantificar a aptidão do genoma\n",
    "\n",
    "- Existem inúmeras maneiras de quantificar a aptidão de um genoma"
   ]
  },
  {
   "cell_type": "code",
   "execution_count": 436,
   "metadata": {},
   "outputs": [],
   "source": [
    "def fitness(genome):\n",
    "    return genome.count(1)"
   ]
  },
  {
   "cell_type": "markdown",
   "metadata": {},
   "source": [
    "## Passo 5: Selecionar os pais mais aptos\n",
    "\n",
    "- Existem diversos métodos para selecionar os genomas mais aptos."
   ]
  },
  {
   "cell_type": "code",
   "execution_count": 437,
   "metadata": {},
   "outputs": [],
   "source": [
    "def select_parents(population, fitness_values):\n",
    "    rollette = []\n",
    "    for individual, fitness in zip(population, fitness_values):\n",
    "        for _ in range(fitness):\n",
    "            rollette.append(individual)\n",
    "    \n",
    "    return rollette[random.randint(0, len(rollette) - 1)]"
   ]
  },
  {
   "cell_type": "markdown",
   "metadata": {},
   "source": [
    "## Passo 6: Realizar o Crossover entre 2 genomas"
   ]
  },
  {
   "cell_type": "code",
   "execution_count": 438,
   "metadata": {},
   "outputs": [],
   "source": [
    "def crossover(genome_one, genome_two):\n",
    "    if random.random() < CROSSOVER_RATE:\n",
    "        crossover_point = random.randint(1, GENOME_LENGTH - 1)\n",
    "        return genome_one[:crossover_point] + genome_two[crossover_point:], genome_two[:crossover_point] + genome_one[crossover_point:]\n",
    "    else:\n",
    "\n",
    "        return genome_one, genome_two"
   ]
  },
  {
   "cell_type": "markdown",
   "metadata": {},
   "source": [
    "## Passo 7: Realizar mutação em um genoma"
   ]
  },
  {
   "cell_type": "code",
   "execution_count": 439,
   "metadata": {},
   "outputs": [],
   "source": [
    "def mutate(genome):\n",
    "    for gene in genome:\n",
    "        if random.random() < MUTATION_RATE:\n",
    "            gene = abs(gene - 1)\n",
    "\n",
    "    return genome"
   ]
  },
  {
   "cell_type": "markdown",
   "metadata": {},
   "source": [
    "## Passo 8: Implementar função principal"
   ]
  },
  {
   "cell_type": "code",
   "execution_count": 440,
   "metadata": {},
   "outputs": [],
   "source": [
    "def genetic_algorithm():\n",
    "    population = generate_initial_population(POPULATION_SIZE, GENOME_LENGTH)\n",
    "    fitness_values = []\n",
    "\n",
    "    for generation in range(GENERATIONS):\n",
    "        fitness_values = [fitness(genome) for genome in population]\n",
    "\n",
    "        new_population = []\n",
    "        for _ in range(POPULATION_SIZE // 2):\n",
    "            genome_one = select_parents(population, fitness_values)\n",
    "            genome_two = select_parents(population, fitness_values)\n",
    "\n",
    "            off_spring_one, off_spring_two = crossover(genome_one, genome_two)\n",
    "\n",
    "            new_population.extend([mutate(off_spring_one), mutate(off_spring_two)])\n",
    "        \n",
    "        population = new_population\n",
    "        \n",
    "        best_fitness = max(fitness_values)\n",
    "        print(f\"Generation: {generation}, Best Fitness: {best_fitness}\\n\")\n",
    "    \n",
    "    final_fitness_values = [fitness(genome) for genome in population]\n",
    "    best_solution_index = final_fitness_values.index(max(final_fitness_values))\n",
    "    best_solution = population[best_solution_index]\n",
    "\n",
    "    print(f\"Best Solution: {best_solution}\")\n",
    "    print(f\"Best Fitness: {fitness(best_solution)}\")"
   ]
  },
  {
   "cell_type": "markdown",
   "metadata": {},
   "source": [
    "## Passo final: Executar o algoritmo"
   ]
  },
  {
   "cell_type": "code",
   "execution_count": 441,
   "metadata": {},
   "outputs": [
    {
     "name": "stdout",
     "output_type": "stream",
     "text": [
      "Generation: 0, Best Fitness: 8\n",
      "\n",
      "Generation: 1, Best Fitness: 8\n",
      "\n",
      "Generation: 2, Best Fitness: 9\n",
      "\n",
      "Generation: 3, Best Fitness: 9\n",
      "\n",
      "Generation: 4, Best Fitness: 8\n",
      "\n",
      "Generation: 5, Best Fitness: 9\n",
      "\n",
      "Generation: 6, Best Fitness: 9\n",
      "\n",
      "Generation: 7, Best Fitness: 9\n",
      "\n",
      "Generation: 8, Best Fitness: 9\n",
      "\n",
      "Generation: 9, Best Fitness: 10\n",
      "\n",
      "Generation: 10, Best Fitness: 10\n",
      "\n",
      "Generation: 11, Best Fitness: 10\n",
      "\n",
      "Generation: 12, Best Fitness: 10\n",
      "\n",
      "Generation: 13, Best Fitness: 10\n",
      "\n",
      "Generation: 14, Best Fitness: 10\n",
      "\n",
      "Generation: 15, Best Fitness: 10\n",
      "\n",
      "Generation: 16, Best Fitness: 10\n",
      "\n",
      "Generation: 17, Best Fitness: 10\n",
      "\n",
      "Generation: 18, Best Fitness: 10\n",
      "\n",
      "Generation: 19, Best Fitness: 10\n",
      "\n",
      "Generation: 20, Best Fitness: 10\n",
      "\n",
      "Generation: 21, Best Fitness: 10\n",
      "\n",
      "Generation: 22, Best Fitness: 10\n",
      "\n",
      "Generation: 23, Best Fitness: 10\n",
      "\n",
      "Generation: 24, Best Fitness: 10\n",
      "\n",
      "Generation: 25, Best Fitness: 10\n",
      "\n",
      "Generation: 26, Best Fitness: 10\n",
      "\n",
      "Generation: 27, Best Fitness: 10\n",
      "\n",
      "Generation: 28, Best Fitness: 10\n",
      "\n",
      "Generation: 29, Best Fitness: 10\n",
      "\n",
      "Best Solution: [1, 1, 1, 1, 1, 1, 1, 1, 1, 1]\n",
      "Best Fitness: 10\n"
     ]
    }
   ],
   "source": [
    "if __name__ == \"__main__\":\n",
    "    genetic_algorithm()"
   ]
  }
 ],
 "metadata": {
  "kernelspec": {
   "display_name": "Python 3",
   "language": "python",
   "name": "python3"
  },
  "language_info": {
   "codemirror_mode": {
    "name": "ipython",
    "version": 3
   },
   "file_extension": ".py",
   "mimetype": "text/x-python",
   "name": "python",
   "nbconvert_exporter": "python",
   "pygments_lexer": "ipython3",
   "version": "3.10.12"
  }
 },
 "nbformat": 4,
 "nbformat_minor": 2
}
